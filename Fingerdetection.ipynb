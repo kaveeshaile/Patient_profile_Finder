{
  "nbformat": 4,
  "nbformat_minor": 0,
  "metadata": {
    "colab": {
      "provenance": [],
      "gpuType": "T4"
    },
    "kernelspec": {
      "name": "python3",
      "display_name": "Python 3"
    },
    "language_info": {
      "name": "python"
    },
    "accelerator": "GPU"
  },
  "cells": [
    {
      "cell_type": "code",
      "execution_count": 1,
      "metadata": {
        "id": "n742zfQ82_dB"
      },
      "outputs": [],
      "source": [
        "!pip install numpy -q\n",
        "!pip install pandas -q\n",
        "!pip install matplotlib -q\n",
        "!pip install tensorflow -q\n",
        "\n",
        "!pip install opendatasets -q"
      ]
    },
    {
      "cell_type": "code",
      "source": [
        "# import necessary libraries\n",
        "import numpy as np\n",
        "import tensorflow as tf\n",
        "import matplotlib.pyplot as plt\n",
        "import time\n",
        "import pandas as pd\n",
        "import opendatasets as od\n",
        "from sklearn.model_selection import train_test_split\n",
        "from tensorflow.keras.preprocessing.image import ImageDataGenerator\n",
        "from sklearn.preprocessing import OneHotEncoder\n",
        "from sklearn.preprocessing import LabelEncoder"
      ],
      "metadata": {
        "id": "jKY3yy9p3Gsg"
      },
      "execution_count": 2,
      "outputs": []
    },
    {
      "cell_type": "code",
      "source": [
        "# download dataset\n",
        "od.download(\"https://www.kaggle.com/datasets/ninadmehendale/multimodal-iris-fingerprint-biometric-data\")"
      ],
      "metadata": {
        "colab": {
          "base_uri": "https://localhost:8080/"
        },
        "id": "ybK62v0x3GoY",
        "outputId": "7fb21be5-14f0-4cee-a667-e7fbec29dbda"
      },
      "execution_count": 3,
      "outputs": [
        {
          "output_type": "stream",
          "name": "stdout",
          "text": [
            "Please provide your Kaggle credentials to download this dataset. Learn more: http://bit.ly/kaggle-creds\n",
            "Your Kaggle username: kaveesham\n",
            "Your Kaggle Key: ··········\n",
            "Dataset URL: https://www.kaggle.com/datasets/ninadmehendale/multimodal-iris-fingerprint-biometric-data\n",
            "Downloading multimodal-iris-fingerprint-biometric-data.zip to ./multimodal-iris-fingerprint-biometric-data\n"
          ]
        },
        {
          "output_type": "stream",
          "name": "stderr",
          "text": [
            "100%|██████████| 34.5M/34.5M [00:00<00:00, 68.9MB/s]\n"
          ]
        },
        {
          "output_type": "stream",
          "name": "stdout",
          "text": [
            "\n"
          ]
        }
      ]
    },
    {
      "cell_type": "code",
      "source": [
        "import os\n",
        "import shutil\n",
        "\n",
        "# Base path for folders (modify if needed)\n",
        "base_path = \"/content/multimodal-iris-fingerprint-biometric-data/IRIS and FINGERPRINT DATASET\"\n",
        "\n",
        "# Destination path for extracted fingerprints (modify if needed)\n",
        "destination_path = \"/content/extract\"\n",
        "\n",
        "# Loop through folders 1-45\n",
        "for folder_num in range(1, 46):\n",
        "  # Construct source path for \"Fingerprint\" folder\n",
        "  source_path = os.path.join(base_path, str(folder_num), \"Fingerprint\")\n",
        "\n",
        "  # Check if source path exists\n",
        "  if os.path.exists(source_path):\n",
        "    # Extract the folder (if it exists)\n",
        "    if os.path.isdir(source_path):  # Double-check if it's a directory\n",
        "      # Create destination path if it doesn't exist (prevents overwriting)\n",
        "      destination_folder_path = os.path.join(destination_path, str(folder_num))\n",
        "      os.makedirs(destination_folder_path, exist_ok=True)\n",
        "\n",
        "      # Extract using shutil.move to preserve folder structure\n",
        "      destination_fingerprint_path = os.path.join(destination_folder_path, \"Fingerprint\")\n",
        "      shutil.move(source_path, destination_fingerprint_path)\n",
        "      print(f\"Fingerprint folder extracted from folder {folder_num} successfully!\")\n",
        "  else:\n",
        "    print(f\"Fingerprint folder not found in folder {folder_num}!\")\n",
        "\n",
        "print(\"Fingerprint extraction from all folders completed!\")\n"
      ],
      "metadata": {
        "colab": {
          "base_uri": "https://localhost:8080/"
        },
        "id": "CDpk1ix23GmO",
        "outputId": "d138876d-a5d3-4996-e2e9-717584726789"
      },
      "execution_count": 4,
      "outputs": [
        {
          "output_type": "stream",
          "name": "stdout",
          "text": [
            "Fingerprint folder extracted from folder 1 successfully!\n",
            "Fingerprint folder extracted from folder 2 successfully!\n",
            "Fingerprint folder extracted from folder 3 successfully!\n",
            "Fingerprint folder extracted from folder 4 successfully!\n",
            "Fingerprint folder extracted from folder 5 successfully!\n",
            "Fingerprint folder extracted from folder 6 successfully!\n",
            "Fingerprint folder extracted from folder 7 successfully!\n",
            "Fingerprint folder extracted from folder 8 successfully!\n",
            "Fingerprint folder extracted from folder 9 successfully!\n",
            "Fingerprint folder extracted from folder 10 successfully!\n",
            "Fingerprint folder extracted from folder 11 successfully!\n",
            "Fingerprint folder extracted from folder 12 successfully!\n",
            "Fingerprint folder extracted from folder 13 successfully!\n",
            "Fingerprint folder extracted from folder 14 successfully!\n",
            "Fingerprint folder extracted from folder 15 successfully!\n",
            "Fingerprint folder extracted from folder 16 successfully!\n",
            "Fingerprint folder extracted from folder 17 successfully!\n",
            "Fingerprint folder extracted from folder 18 successfully!\n",
            "Fingerprint folder extracted from folder 19 successfully!\n",
            "Fingerprint folder extracted from folder 20 successfully!\n",
            "Fingerprint folder extracted from folder 21 successfully!\n",
            "Fingerprint folder extracted from folder 22 successfully!\n",
            "Fingerprint folder extracted from folder 23 successfully!\n",
            "Fingerprint folder extracted from folder 24 successfully!\n",
            "Fingerprint folder extracted from folder 25 successfully!\n",
            "Fingerprint folder extracted from folder 26 successfully!\n",
            "Fingerprint folder extracted from folder 27 successfully!\n",
            "Fingerprint folder extracted from folder 28 successfully!\n",
            "Fingerprint folder extracted from folder 29 successfully!\n",
            "Fingerprint folder extracted from folder 30 successfully!\n",
            "Fingerprint folder extracted from folder 31 successfully!\n",
            "Fingerprint folder extracted from folder 32 successfully!\n",
            "Fingerprint folder extracted from folder 33 successfully!\n",
            "Fingerprint folder extracted from folder 34 successfully!\n",
            "Fingerprint folder extracted from folder 35 successfully!\n",
            "Fingerprint folder extracted from folder 36 successfully!\n",
            "Fingerprint folder extracted from folder 37 successfully!\n",
            "Fingerprint folder extracted from folder 38 successfully!\n",
            "Fingerprint folder extracted from folder 39 successfully!\n",
            "Fingerprint folder extracted from folder 40 successfully!\n",
            "Fingerprint folder extracted from folder 41 successfully!\n",
            "Fingerprint folder extracted from folder 42 successfully!\n",
            "Fingerprint folder extracted from folder 43 successfully!\n",
            "Fingerprint folder extracted from folder 44 successfully!\n",
            "Fingerprint folder extracted from folder 45 successfully!\n",
            "Fingerprint extraction from all folders completed!\n"
          ]
        }
      ]
    },
    {
      "cell_type": "code",
      "source": [
        "short_names = [\n",
        "  \"Ace\", \"Ari\", \"Ash\", \"Bea\", \"Ben\", \"Bly\", \"Cam\", \"Cat\", \"Dax\", \"Echo\",\n",
        "  \"Em\", \"Fox\", \"Gia\", \"Gus\", \"Jay\", \"Jem\", \"Kai\", \"Kit\", \"Liv\", \"Lux\",\n",
        "  \"Mac\", \"May\", \"Max\", \"Nat\", \"Neo\", \"Nix\", \"Nax\", \"Pax\", \"Tax\",\n",
        "  \"Pip\", \"Rae\", \"Ren\", \"Sam\", \"Scout\", \"Shay\", \"Skye\", \"Tate\", \"Ty\", \"Uma\",\n",
        "  \"Val\", \"Wren\", \"Xander\", \"Yaz\", \"Zee\"\n",
        "]"
      ],
      "metadata": {
        "id": "ZHAHkLYx5gwP"
      },
      "execution_count": 5,
      "outputs": []
    },
    {
      "cell_type": "code",
      "source": [
        "# Ensure we have enough names (extend the list if needed)\n",
        "if len(short_names) < 45:\n",
        "  num_missing_names = 45 - len(short_names)\n",
        "  additional_names = [\"Extra\" + str(i) for i in range(1, num_missing_names + 1)]\n",
        "  short_names.extend(additional_names)\n",
        "\n",
        "# Loop through folders and rename (modify path if needed)\n",
        "base_path = \"/content/extract/\"\n",
        "for folder_num in range(1, 46):\n",
        "  folder_path = os.path.join(base_path, str(folder_num))\n",
        "  new_name = short_names[folder_num - 1]  # Access name based on folder number\n",
        "  os.rename(folder_path, os.path.join(base_path, new_name))\n",
        "\n",
        "print(\"Folders renamed with short names!\")"
      ],
      "metadata": {
        "colab": {
          "base_uri": "https://localhost:8080/"
        },
        "id": "q9BZ-7ey5gub",
        "outputId": "05ceda45-019b-49a8-dab8-6a2f5ee6af83"
      },
      "execution_count": 6,
      "outputs": [
        {
          "output_type": "stream",
          "name": "stdout",
          "text": [
            "Folders renamed with short names!\n"
          ]
        }
      ]
    },
    {
      "cell_type": "code",
      "source": [
        "import os\n",
        "import re\n",
        "\n",
        "def is_person_folder(name):\n",
        "  \"\"\"Checks if a folder name likely represents a person's name.\"\"\"\n",
        "  # Basic check for alphanumeric characters with optional spaces\n",
        "  pattern = r\"^[a-zA-Z\\s]+$\"\n",
        "  return bool(re.match(pattern, name))\n",
        "\n",
        "def list_people_folders(path):\n",
        "  \"\"\"Lists folders that likely represent people's names under a given path.\"\"\"\n",
        "  people_folders = []\n",
        "  for entry in os.listdir(path):\n",
        "    if os.path.isdir(os.path.join(path, entry)):\n",
        "      if is_person_folder(entry):\n",
        "        people_folders.append(entry)\n",
        "  return people_folders\n",
        "\n",
        "# Get the list of folders with people names\n",
        "people_folders = list_people_folders(\"/content/extract\")\n",
        "\n",
        "# Print the list of folders\n",
        "print(f\"Folders with likely people names:\")\n",
        "for folder in people_folders:\n",
        "  print(folder)\n"
      ],
      "metadata": {
        "colab": {
          "base_uri": "https://localhost:8080/"
        },
        "id": "LubDv1ud3Gjy",
        "outputId": "d12b371a-31c3-4983-fa29-a95ba16e8132"
      },
      "execution_count": 7,
      "outputs": [
        {
          "output_type": "stream",
          "name": "stdout",
          "text": [
            "Folders with likely people names:\n",
            "Liv\n",
            "Tax\n",
            "Nax\n",
            "Zee\n",
            "Max\n",
            "Lux\n",
            "Ren\n",
            "Ben\n",
            "Bly\n",
            "Kai\n",
            "Gus\n",
            "Kit\n",
            "Sam\n",
            "Ari\n",
            "Bea\n",
            "Jay\n",
            "Neo\n",
            "Wren\n",
            "Shay\n",
            "Xander\n",
            "Yaz\n",
            "Ty\n",
            "Rae\n",
            "May\n",
            "Tate\n",
            "Gia\n",
            "Val\n",
            "Nix\n",
            "Pax\n",
            "Uma\n",
            "Em\n",
            "Echo\n",
            "Nat\n",
            "Dax\n",
            "Cat\n",
            "Ace\n",
            "Mac\n",
            "Pip\n",
            "Jem\n",
            "Fox\n",
            "Cam\n",
            "Ash\n",
            "Scout\n",
            "Skye\n"
          ]
        }
      ]
    },
    {
      "cell_type": "code",
      "source": [
        "import os\n",
        "import re\n",
        "\n",
        "def is_person_folder(name):\n",
        "  \"\"\"Checks if a folder name likely represents a person's name.\"\"\"\n",
        "  # Basic check for alphanumeric characters with optional spaces\n",
        "  pattern = r\"^[a-zA-Z\\s]+$\"\n",
        "  return bool(re.match(pattern, name))\n",
        "\n",
        "def move_people_folders(source_path, target_path):\n",
        "  \"\"\"Moves folders with people names and their contents to the target directory.\"\"\"\n",
        "  for entry in os.listdir(source_path):\n",
        "    if os.path.isdir(os.path.join(source_path, entry)):\n",
        "      if is_person_folder(entry):\n",
        "        source_dir = os.path.join(source_path, entry)\n",
        "        target_dir = os.path.join(target_path, entry)\n",
        "        # Move the entire directory (including contents)\n",
        "        os.replace(source_dir, target_dir)\n",
        "\n",
        "# Source directory containing folders (replace with your actual path)\n",
        "source_path = \"/content/extract\"\n",
        "\n",
        "# Target directory to move folders to (replace with your desired path)\n",
        "target_path = \"/content/train\"\n",
        "\n",
        "# Create the target directory if it doesn't exist\n",
        "os.makedirs(target_path, exist_ok=True)\n",
        "\n",
        "# Move the people folders with their contents\n",
        "move_people_folders(source_path, target_path)\n",
        "\n",
        "print(f\"Folders with people names and their contents moved to: {target_path}\")\n"
      ],
      "metadata": {
        "colab": {
          "base_uri": "https://localhost:8080/"
        },
        "id": "gMcgLB8b3GZ7",
        "outputId": "cfed8adf-ae1b-491f-9c78-e0db0c98cda7"
      },
      "execution_count": 8,
      "outputs": [
        {
          "output_type": "stream",
          "name": "stdout",
          "text": [
            "Folders with people names and their contents moved to: /content/train\n"
          ]
        }
      ]
    },
    {
      "cell_type": "code",
      "source": [
        "import os\n",
        "import pandas as pd\n",
        "\n",
        "def create_fingerprint_dataframe(data_dir):\n",
        "  \"\"\"Creates a DataFrame containing names and fingerprint image paths (if any).\"\"\"\n",
        "  data = []\n",
        "  for person_dir in os.listdir(data_dir):\n",
        "    if os.path.isdir(os.path.join(data_dir, person_dir)):\n",
        "      person_name = person_dir\n",
        "      fingerprint_dir = os.path.join(data_dir, person_dir, \"Fingerprint\")  # Assuming \"Fingerprint\" subfolder\n",
        "      image_paths = []\n",
        "      if os.path.isdir(fingerprint_dir):  # Check if fingerprint directory exists\n",
        "        for filename in os.listdir(fingerprint_dir):\n",
        "          if filename.endswith(\".bmp\"):\n",
        "            image_path = os.path.join(fingerprint_dir, filename)\n",
        "            image_paths.append(image_path)\n",
        "      data.append({'name': person_name, 'img': image_paths})  # Include image paths even if empty\n",
        "  df = pd.DataFrame(data)\n",
        "  return df\n",
        "\n",
        "# Specify the data directory (replace with your actual path)\n",
        "data_dir = \"/content/train\"\n",
        "\n",
        "# Create the DataFrame\n",
        "fingerprint_df = create_fingerprint_dataframe(data_dir)\n",
        "\n",
        "# Print the DataFrame\n",
        "print(fingerprint_df)\n"
      ],
      "metadata": {
        "colab": {
          "base_uri": "https://localhost:8080/"
        },
        "id": "t9Rq69X9EyIv",
        "outputId": "aa7acccc-bc37-4a35-a118-c39b8c0de574"
      },
      "execution_count": 9,
      "outputs": [
        {
          "output_type": "stream",
          "name": "stdout",
          "text": [
            "      name img\n",
            "0      Liv  []\n",
            "1      Tax  []\n",
            "2      Nax  []\n",
            "3      Zee  []\n",
            "4      Max  []\n",
            "5      Lux  []\n",
            "6      Ren  []\n",
            "7      Ben  []\n",
            "8      Bly  []\n",
            "9      Kai  []\n",
            "10     Gus  []\n",
            "11     Kit  []\n",
            "12     Sam  []\n",
            "13     Ari  []\n",
            "14     Bea  []\n",
            "15     Jay  []\n",
            "16     Neo  []\n",
            "17    Wren  []\n",
            "18    Shay  []\n",
            "19  Xander  []\n",
            "20     Yaz  []\n",
            "21      Ty  []\n",
            "22     Rae  []\n",
            "23     May  []\n",
            "24    Tate  []\n",
            "25     Gia  []\n",
            "26     Val  []\n",
            "27     Nix  []\n",
            "28     Pax  []\n",
            "29     Uma  []\n",
            "30      Em  []\n",
            "31    Echo  []\n",
            "32     Nat  []\n",
            "33     Dax  []\n",
            "34     Cat  []\n",
            "35     Ace  []\n",
            "36     Mac  []\n",
            "37     Pip  []\n",
            "38     Jem  []\n",
            "39     Fox  []\n",
            "40     Cam  []\n",
            "41     Ash  []\n",
            "42   Scout  []\n",
            "43    Skye  []\n"
          ]
        }
      ]
    },
    {
      "cell_type": "code",
      "source": [
        "fingerprint_df.dtypes\n"
      ],
      "metadata": {
        "colab": {
          "base_uri": "https://localhost:8080/"
        },
        "id": "ZnKgOg6jv22v",
        "outputId": "b86cde4e-162a-4344-f586-98763b57c49d"
      },
      "execution_count": 10,
      "outputs": [
        {
          "output_type": "execute_result",
          "data": {
            "text/plain": [
              "name    object\n",
              "img     object\n",
              "dtype: object"
            ]
          },
          "metadata": {},
          "execution_count": 10
        }
      ]
    },
    {
      "cell_type": "markdown",
      "source": [
        "lable encode"
      ],
      "metadata": {
        "id": "-n36uMof6WTW"
      }
    },
    {
      "cell_type": "code",
      "source": [
        "column_to_encode = 'name'\n",
        "encoder = LabelEncoder()\n",
        "fingerprint_df[column_to_encode] = encoder.fit_transform(fingerprint_df[column_to_encode])\n",
        "\n",
        "# Print the DataFrame after encoding\n",
        "fingerprint_df.head(5)"
      ],
      "metadata": {
        "colab": {
          "base_uri": "https://localhost:8080/",
          "height": 206
        },
        "id": "sQDmc9qe6C6h",
        "outputId": "ea99ccc6-8c3e-4183-f304-27d68fee6e61"
      },
      "execution_count": 32,
      "outputs": [
        {
          "output_type": "execute_result",
          "data": {
            "text/plain": [
              "   name img\n",
              "0    18  []\n",
              "1    36  []\n",
              "2    24  []\n",
              "3    43  []\n",
              "4    21  []"
            ],
            "text/html": [
              "\n",
              "  <div id=\"df-80b95800-b9d2-436a-979b-f5ac719a4562\" class=\"colab-df-container\">\n",
              "    <div>\n",
              "<style scoped>\n",
              "    .dataframe tbody tr th:only-of-type {\n",
              "        vertical-align: middle;\n",
              "    }\n",
              "\n",
              "    .dataframe tbody tr th {\n",
              "        vertical-align: top;\n",
              "    }\n",
              "\n",
              "    .dataframe thead th {\n",
              "        text-align: right;\n",
              "    }\n",
              "</style>\n",
              "<table border=\"1\" class=\"dataframe\">\n",
              "  <thead>\n",
              "    <tr style=\"text-align: right;\">\n",
              "      <th></th>\n",
              "      <th>name</th>\n",
              "      <th>img</th>\n",
              "    </tr>\n",
              "  </thead>\n",
              "  <tbody>\n",
              "    <tr>\n",
              "      <th>0</th>\n",
              "      <td>18</td>\n",
              "      <td>[]</td>\n",
              "    </tr>\n",
              "    <tr>\n",
              "      <th>1</th>\n",
              "      <td>36</td>\n",
              "      <td>[]</td>\n",
              "    </tr>\n",
              "    <tr>\n",
              "      <th>2</th>\n",
              "      <td>24</td>\n",
              "      <td>[]</td>\n",
              "    </tr>\n",
              "    <tr>\n",
              "      <th>3</th>\n",
              "      <td>43</td>\n",
              "      <td>[]</td>\n",
              "    </tr>\n",
              "    <tr>\n",
              "      <th>4</th>\n",
              "      <td>21</td>\n",
              "      <td>[]</td>\n",
              "    </tr>\n",
              "  </tbody>\n",
              "</table>\n",
              "</div>\n",
              "    <div class=\"colab-df-buttons\">\n",
              "\n",
              "  <div class=\"colab-df-container\">\n",
              "    <button class=\"colab-df-convert\" onclick=\"convertToInteractive('df-80b95800-b9d2-436a-979b-f5ac719a4562')\"\n",
              "            title=\"Convert this dataframe to an interactive table.\"\n",
              "            style=\"display:none;\">\n",
              "\n",
              "  <svg xmlns=\"http://www.w3.org/2000/svg\" height=\"24px\" viewBox=\"0 -960 960 960\">\n",
              "    <path d=\"M120-120v-720h720v720H120Zm60-500h600v-160H180v160Zm220 220h160v-160H400v160Zm0 220h160v-160H400v160ZM180-400h160v-160H180v160Zm440 0h160v-160H620v160ZM180-180h160v-160H180v160Zm440 0h160v-160H620v160Z\"/>\n",
              "  </svg>\n",
              "    </button>\n",
              "\n",
              "  <style>\n",
              "    .colab-df-container {\n",
              "      display:flex;\n",
              "      gap: 12px;\n",
              "    }\n",
              "\n",
              "    .colab-df-convert {\n",
              "      background-color: #E8F0FE;\n",
              "      border: none;\n",
              "      border-radius: 50%;\n",
              "      cursor: pointer;\n",
              "      display: none;\n",
              "      fill: #1967D2;\n",
              "      height: 32px;\n",
              "      padding: 0 0 0 0;\n",
              "      width: 32px;\n",
              "    }\n",
              "\n",
              "    .colab-df-convert:hover {\n",
              "      background-color: #E2EBFA;\n",
              "      box-shadow: 0px 1px 2px rgba(60, 64, 67, 0.3), 0px 1px 3px 1px rgba(60, 64, 67, 0.15);\n",
              "      fill: #174EA6;\n",
              "    }\n",
              "\n",
              "    .colab-df-buttons div {\n",
              "      margin-bottom: 4px;\n",
              "    }\n",
              "\n",
              "    [theme=dark] .colab-df-convert {\n",
              "      background-color: #3B4455;\n",
              "      fill: #D2E3FC;\n",
              "    }\n",
              "\n",
              "    [theme=dark] .colab-df-convert:hover {\n",
              "      background-color: #434B5C;\n",
              "      box-shadow: 0px 1px 3px 1px rgba(0, 0, 0, 0.15);\n",
              "      filter: drop-shadow(0px 1px 2px rgba(0, 0, 0, 0.3));\n",
              "      fill: #FFFFFF;\n",
              "    }\n",
              "  </style>\n",
              "\n",
              "    <script>\n",
              "      const buttonEl =\n",
              "        document.querySelector('#df-80b95800-b9d2-436a-979b-f5ac719a4562 button.colab-df-convert');\n",
              "      buttonEl.style.display =\n",
              "        google.colab.kernel.accessAllowed ? 'block' : 'none';\n",
              "\n",
              "      async function convertToInteractive(key) {\n",
              "        const element = document.querySelector('#df-80b95800-b9d2-436a-979b-f5ac719a4562');\n",
              "        const dataTable =\n",
              "          await google.colab.kernel.invokeFunction('convertToInteractive',\n",
              "                                                    [key], {});\n",
              "        if (!dataTable) return;\n",
              "\n",
              "        const docLinkHtml = 'Like what you see? Visit the ' +\n",
              "          '<a target=\"_blank\" href=https://colab.research.google.com/notebooks/data_table.ipynb>data table notebook</a>'\n",
              "          + ' to learn more about interactive tables.';\n",
              "        element.innerHTML = '';\n",
              "        dataTable['output_type'] = 'display_data';\n",
              "        await google.colab.output.renderOutput(dataTable, element);\n",
              "        const docLink = document.createElement('div');\n",
              "        docLink.innerHTML = docLinkHtml;\n",
              "        element.appendChild(docLink);\n",
              "      }\n",
              "    </script>\n",
              "  </div>\n",
              "\n",
              "\n",
              "<div id=\"df-2af787ff-708d-49e5-9cca-a385efb8dfd3\">\n",
              "  <button class=\"colab-df-quickchart\" onclick=\"quickchart('df-2af787ff-708d-49e5-9cca-a385efb8dfd3')\"\n",
              "            title=\"Suggest charts\"\n",
              "            style=\"display:none;\">\n",
              "\n",
              "<svg xmlns=\"http://www.w3.org/2000/svg\" height=\"24px\"viewBox=\"0 0 24 24\"\n",
              "     width=\"24px\">\n",
              "    <g>\n",
              "        <path d=\"M19 3H5c-1.1 0-2 .9-2 2v14c0 1.1.9 2 2 2h14c1.1 0 2-.9 2-2V5c0-1.1-.9-2-2-2zM9 17H7v-7h2v7zm4 0h-2V7h2v10zm4 0h-2v-4h2v4z\"/>\n",
              "    </g>\n",
              "</svg>\n",
              "  </button>\n",
              "\n",
              "<style>\n",
              "  .colab-df-quickchart {\n",
              "      --bg-color: #E8F0FE;\n",
              "      --fill-color: #1967D2;\n",
              "      --hover-bg-color: #E2EBFA;\n",
              "      --hover-fill-color: #174EA6;\n",
              "      --disabled-fill-color: #AAA;\n",
              "      --disabled-bg-color: #DDD;\n",
              "  }\n",
              "\n",
              "  [theme=dark] .colab-df-quickchart {\n",
              "      --bg-color: #3B4455;\n",
              "      --fill-color: #D2E3FC;\n",
              "      --hover-bg-color: #434B5C;\n",
              "      --hover-fill-color: #FFFFFF;\n",
              "      --disabled-bg-color: #3B4455;\n",
              "      --disabled-fill-color: #666;\n",
              "  }\n",
              "\n",
              "  .colab-df-quickchart {\n",
              "    background-color: var(--bg-color);\n",
              "    border: none;\n",
              "    border-radius: 50%;\n",
              "    cursor: pointer;\n",
              "    display: none;\n",
              "    fill: var(--fill-color);\n",
              "    height: 32px;\n",
              "    padding: 0;\n",
              "    width: 32px;\n",
              "  }\n",
              "\n",
              "  .colab-df-quickchart:hover {\n",
              "    background-color: var(--hover-bg-color);\n",
              "    box-shadow: 0 1px 2px rgba(60, 64, 67, 0.3), 0 1px 3px 1px rgba(60, 64, 67, 0.15);\n",
              "    fill: var(--button-hover-fill-color);\n",
              "  }\n",
              "\n",
              "  .colab-df-quickchart-complete:disabled,\n",
              "  .colab-df-quickchart-complete:disabled:hover {\n",
              "    background-color: var(--disabled-bg-color);\n",
              "    fill: var(--disabled-fill-color);\n",
              "    box-shadow: none;\n",
              "  }\n",
              "\n",
              "  .colab-df-spinner {\n",
              "    border: 2px solid var(--fill-color);\n",
              "    border-color: transparent;\n",
              "    border-bottom-color: var(--fill-color);\n",
              "    animation:\n",
              "      spin 1s steps(1) infinite;\n",
              "  }\n",
              "\n",
              "  @keyframes spin {\n",
              "    0% {\n",
              "      border-color: transparent;\n",
              "      border-bottom-color: var(--fill-color);\n",
              "      border-left-color: var(--fill-color);\n",
              "    }\n",
              "    20% {\n",
              "      border-color: transparent;\n",
              "      border-left-color: var(--fill-color);\n",
              "      border-top-color: var(--fill-color);\n",
              "    }\n",
              "    30% {\n",
              "      border-color: transparent;\n",
              "      border-left-color: var(--fill-color);\n",
              "      border-top-color: var(--fill-color);\n",
              "      border-right-color: var(--fill-color);\n",
              "    }\n",
              "    40% {\n",
              "      border-color: transparent;\n",
              "      border-right-color: var(--fill-color);\n",
              "      border-top-color: var(--fill-color);\n",
              "    }\n",
              "    60% {\n",
              "      border-color: transparent;\n",
              "      border-right-color: var(--fill-color);\n",
              "    }\n",
              "    80% {\n",
              "      border-color: transparent;\n",
              "      border-right-color: var(--fill-color);\n",
              "      border-bottom-color: var(--fill-color);\n",
              "    }\n",
              "    90% {\n",
              "      border-color: transparent;\n",
              "      border-bottom-color: var(--fill-color);\n",
              "    }\n",
              "  }\n",
              "</style>\n",
              "\n",
              "  <script>\n",
              "    async function quickchart(key) {\n",
              "      const quickchartButtonEl =\n",
              "        document.querySelector('#' + key + ' button');\n",
              "      quickchartButtonEl.disabled = true;  // To prevent multiple clicks.\n",
              "      quickchartButtonEl.classList.add('colab-df-spinner');\n",
              "      try {\n",
              "        const charts = await google.colab.kernel.invokeFunction(\n",
              "            'suggestCharts', [key], {});\n",
              "      } catch (error) {\n",
              "        console.error('Error during call to suggestCharts:', error);\n",
              "      }\n",
              "      quickchartButtonEl.classList.remove('colab-df-spinner');\n",
              "      quickchartButtonEl.classList.add('colab-df-quickchart-complete');\n",
              "    }\n",
              "    (() => {\n",
              "      let quickchartButtonEl =\n",
              "        document.querySelector('#df-2af787ff-708d-49e5-9cca-a385efb8dfd3 button');\n",
              "      quickchartButtonEl.style.display =\n",
              "        google.colab.kernel.accessAllowed ? 'block' : 'none';\n",
              "    })();\n",
              "  </script>\n",
              "</div>\n",
              "\n",
              "    </div>\n",
              "  </div>\n"
            ],
            "application/vnd.google.colaboratory.intrinsic+json": {
              "type": "dataframe",
              "variable_name": "fingerprint_df",
              "summary": "{\n  \"name\": \"fingerprint_df\",\n  \"rows\": 44,\n  \"fields\": [\n    {\n      \"column\": \"name\",\n      \"properties\": {\n        \"dtype\": \"number\",\n        \"std\": 12,\n        \"min\": 0,\n        \"max\": 43,\n        \"num_unique_values\": 44,\n        \"samples\": [\n          28,\n          35,\n          12\n        ],\n        \"semantic_type\": \"\",\n        \"description\": \"\"\n      }\n    },\n    {\n      \"column\": \"img\",\n      \"properties\": {\n        \"dtype\": \"object\",\n        \"semantic_type\": \"\",\n        \"description\": \"\"\n      }\n    }\n  ]\n}"
            }
          },
          "metadata": {},
          "execution_count": 32
        }
      ]
    },
    {
      "cell_type": "code",
      "source": [
        "fingerprint_df.dtypes"
      ],
      "metadata": {
        "colab": {
          "base_uri": "https://localhost:8080/"
        },
        "id": "aFaaKOLvAJuz",
        "outputId": "5409a4ae-6d96-47ae-e91e-1a8e1ab3f7de"
      },
      "execution_count": 33,
      "outputs": [
        {
          "output_type": "execute_result",
          "data": {
            "text/plain": [
              "name     int64\n",
              "img     object\n",
              "dtype: object"
            ]
          },
          "metadata": {},
          "execution_count": 33
        }
      ]
    },
    {
      "cell_type": "code",
      "source": [
        "import os\n",
        "from tensorflow.keras.preprocessing.image import ImageDataGenerator\n",
        "from tensorflow.keras.models import Sequential\n",
        "from tensorflow.keras.layers import Conv2D, MaxPooling2D, Flatten, Dense,Activation,Dropout\n",
        "img_width, img_height = 128,128"
      ],
      "metadata": {
        "id": "GyaM4LXsv20F"
      },
      "execution_count": 34,
      "outputs": []
    },
    {
      "cell_type": "code",
      "source": [
        "def get_fingerprint_paths(data_dir):\n",
        "  \"\"\"Creates a dictionary mapping person names to lists of fingerprint image paths.\"\"\"\n",
        "  fingerprint_paths = {}\n",
        "  for person_dir in os.listdir(data_dir):\n",
        "    if os.path.isdir(os.path.join(data_dir, person_dir)):\n",
        "      person_name = person_dir\n",
        "      image_paths = []\n",
        "      for filename in os.listdir(os.path.join(data_dir, person_dir)):\n",
        "        if filename.endswith(\".bmp\"):\n",
        "          image_path = os.path.join(data_dir, person_dir, filename)\n",
        "          image_paths.append(image_path)\n",
        "      if image_paths:\n",
        "        fingerprint_paths[person_name] = image_paths\n",
        "  return fingerprint_paths\n",
        "\n",
        "# def split_data(fingerprint_paths, test_size=0.2, val_size=0.2):\n",
        "#   \"\"\"Splits the fingerprint data into training, validation, and test sets.\"\"\"\n",
        "#   X_train = train_test_split(\n",
        "#       list(fingerprint_paths.keys()),  # Person names as labels\n",
        "#       list(fingerprint_paths.values()),  # List of image paths per person\n",
        "#       test_size=test_size,\n",
        "#       random_state=42\n",
        "#   )\n",
        "\n",
        "#   X_train = train_test_split(\n",
        "#      random_state=42\n",
        "#   )\n",
        "\n",
        "#   return (X_train)\n",
        "\n",
        "\n"
      ],
      "metadata": {
        "id": "fTwq7n0vzDkB"
      },
      "execution_count": 35,
      "outputs": []
    },
    {
      "cell_type": "code",
      "source": [
        "# Specify data directory path (replace with your actual path)\n",
        "data_dir = \"/content/train\"  # Assuming your data is in Colab\n",
        "\n",
        "# Get fingerprint paths with person names as keys and image paths as lists\n",
        "fingerprint_paths = get_fingerprint_paths(data_dir)\n",
        "\n",
        "# Define image size (adjust if your images have different dimensions)\n",
        "image_size = (128, 128)\n",
        "\n",
        "# Split data into training, validation, and test sets\n",
        "#(X_train, X_val, X_test, y_train, y_val, y_test) = split_data(fingerprint_paths, test_size=0.2, val_size=0.2)\n",
        "\n",
        "# Create data generators for training, validation, and testing (optional for large datasets)\n",
        "train_datagen = ImageDataGenerator(rescale=1./255)  # Normalize pixel values\n",
        "# val_datagen = ImageDataGenerator(rescale=1./255)\n",
        "# test_datagen = ImageDataGenerator(rescale=1./255)\n",
        "\n",
        "train_generator = train_datagen.flow_from_directory(\n",
        "    data_dir,  # Replace with actual data directory (containing subfolders for people)\n",
        "    target_size=image_size,\n",
        "    batch_size=32,\n",
        "    class_mode='categorical',\n",
        "    #subset='training'  # Only training data\n",
        ")\n"
      ],
      "metadata": {
        "colab": {
          "base_uri": "https://localhost:8080/"
        },
        "id": "rCEgbPBEzju8",
        "outputId": "e27fc04f-9274-447b-a881-8ab79a8dd464"
      },
      "execution_count": 36,
      "outputs": [
        {
          "output_type": "stream",
          "name": "stdout",
          "text": [
            "Found 440 images belonging to 44 classes.\n"
          ]
        }
      ]
    },
    {
      "cell_type": "code",
      "source": [
        "#input_shape = image_size"
      ],
      "metadata": {
        "id": "JwLewPVEFWUa"
      },
      "execution_count": 23,
      "outputs": []
    },
    {
      "cell_type": "code",
      "source": [
        "# def create_cnn_model(image_size=(input_shape)):\n",
        "#   \"\"\"Creates a basic CNN model for fingerprint classification.\"\"\"\n",
        "#   model = Sequential()\n",
        "#   model.add(Conv2D(32, (3, 3), activation='relu', input_shape=image_size + (3,)))  # Input with 3 color channels (RGB)\n",
        "#   model.add(MaxPooling2D((2, 2)))\n",
        "#   model.add(Conv2D(64, (3, 3), activation='relu'))\n",
        "#   model.add(MaxPooling2D((2, 2)))\n",
        "#   model.add(Flatten())\n",
        "#   model.add(Dense(64, activation='relu'))  # Adjust number of units as needed\n",
        "#   model.add(Dense(len(data_dir), activation='softmax'))  # Output layer with num_classes\n",
        "\n",
        "#   model.compile(loss='categorical_crossentropy', optimizer='adam', metrics=['accuracy'])\n",
        "#   #model.fit(train_generator, epochs = 20)\n",
        "#   return model\n",
        "\n"
      ],
      "metadata": {
        "id": "BEOLQMkR6uQz"
      },
      "execution_count": 24,
      "outputs": []
    },
    {
      "cell_type": "code",
      "source": [
        "model = Sequential()\n",
        "model.add(Conv2D(32, (2, 2), input_shape=(128,128,3)))\n",
        "model.add(Activation('relu'))\n",
        "model.add(MaxPooling2D(pool_size=(2, 2)))\n",
        "\n",
        "model.add(Conv2D(32, (2, 2)))\n",
        "model.add(Activation('relu'))\n",
        "model.add(MaxPooling2D(pool_size=(2, 2)))\n",
        "\n",
        "model.add(Conv2D(64, (2, 2)))\n",
        "model.add(Activation('relu'))\n",
        "model.add(MaxPooling2D(pool_size=(2, 2)))\n",
        "\n",
        "model.add(Flatten())\n",
        "model.add(Dense(64))\n",
        "model.add(Activation('relu'))\n",
        "model.add(Dropout(0.5))\n",
        "model.add(Dense(44))\n",
        "model.add(Activation('softmax'))"
      ],
      "metadata": {
        "id": "PeTLSwNHFpyT"
      },
      "execution_count": 55,
      "outputs": []
    },
    {
      "cell_type": "code",
      "source": [
        "data_dir"
      ],
      "metadata": {
        "colab": {
          "base_uri": "https://localhost:8080/",
          "height": 36
        },
        "id": "1c4EvNjPVr27",
        "outputId": "eb7075b6-2336-4e83-e1af-6f6a8cb0a5cd"
      },
      "execution_count": 40,
      "outputs": [
        {
          "output_type": "execute_result",
          "data": {
            "text/plain": [
              "'/content/train'"
            ],
            "application/vnd.google.colaboratory.intrinsic+json": {
              "type": "string"
            }
          },
          "metadata": {},
          "execution_count": 40
        }
      ]
    },
    {
      "cell_type": "code",
      "source": [
        "model.compile(loss='categorical_crossentropy',\n",
        "optimizer='adam',\n",
        "metrics=['accuracy'])"
      ],
      "metadata": {
        "id": "qA6WJHhoGG87"
      },
      "execution_count": 46,
      "outputs": []
    },
    {
      "cell_type": "code",
      "source": [
        "#model=create_cnn_model()\n"
      ],
      "metadata": {
        "id": "BmAGKZrDrq5y"
      },
      "execution_count": 20,
      "outputs": []
    },
    {
      "cell_type": "code",
      "source": [
        "model.fit(train_generator, epochs = 23)"
      ],
      "metadata": {
        "colab": {
          "base_uri": "https://localhost:8080/"
        },
        "id": "IOfuiuupzDhT",
        "outputId": "95a73962-086e-4fbb-91e6-c2c29d0cfb18"
      },
      "execution_count": 47,
      "outputs": [
        {
          "output_type": "stream",
          "name": "stdout",
          "text": [
            "Epoch 1/23\n",
            "14/14 [==============================] - 8s 494ms/step - loss: 3.8363 - accuracy: 0.0318\n",
            "Epoch 2/23\n",
            "14/14 [==============================] - 7s 488ms/step - loss: 3.7845 - accuracy: 0.0273\n",
            "Epoch 3/23\n",
            "14/14 [==============================] - 7s 494ms/step - loss: 3.7798 - accuracy: 0.0318\n",
            "Epoch 4/23\n",
            "14/14 [==============================] - 7s 497ms/step - loss: 3.7678 - accuracy: 0.0273\n",
            "Epoch 5/23\n",
            "14/14 [==============================] - 7s 476ms/step - loss: 3.7327 - accuracy: 0.0386\n",
            "Epoch 6/23\n",
            "14/14 [==============================] - 6s 416ms/step - loss: 3.7037 - accuracy: 0.0523\n",
            "Epoch 7/23\n",
            "14/14 [==============================] - 7s 503ms/step - loss: 3.6523 - accuracy: 0.0523\n",
            "Epoch 8/23\n",
            "14/14 [==============================] - 6s 404ms/step - loss: 3.6159 - accuracy: 0.0477\n",
            "Epoch 9/23\n",
            "14/14 [==============================] - 15s 1s/step - loss: 3.5569 - accuracy: 0.0636\n",
            "Epoch 10/23\n",
            "14/14 [==============================] - 7s 474ms/step - loss: 3.4679 - accuracy: 0.0977\n",
            "Epoch 11/23\n",
            "14/14 [==============================] - 7s 463ms/step - loss: 3.3686 - accuracy: 0.1000\n",
            "Epoch 12/23\n",
            "14/14 [==============================] - 7s 517ms/step - loss: 3.2626 - accuracy: 0.1227\n",
            "Epoch 13/23\n",
            "14/14 [==============================] - 6s 436ms/step - loss: 3.1593 - accuracy: 0.1636\n",
            "Epoch 14/23\n",
            "14/14 [==============================] - 7s 506ms/step - loss: 3.0729 - accuracy: 0.1455\n",
            "Epoch 15/23\n",
            "14/14 [==============================] - 7s 519ms/step - loss: 2.9544 - accuracy: 0.1909\n",
            "Epoch 16/23\n",
            "14/14 [==============================] - 6s 430ms/step - loss: 2.8199 - accuracy: 0.2205\n",
            "Epoch 17/23\n",
            "14/14 [==============================] - 7s 489ms/step - loss: 2.6691 - accuracy: 0.2659\n",
            "Epoch 18/23\n",
            "14/14 [==============================] - 6s 433ms/step - loss: 2.4659 - accuracy: 0.3114\n",
            "Epoch 19/23\n",
            "14/14 [==============================] - 7s 475ms/step - loss: 2.3912 - accuracy: 0.3114\n",
            "Epoch 20/23\n",
            "14/14 [==============================] - 8s 527ms/step - loss: 2.2510 - accuracy: 0.3273\n",
            "Epoch 21/23\n",
            "14/14 [==============================] - 7s 513ms/step - loss: 2.2003 - accuracy: 0.3250\n",
            "Epoch 22/23\n",
            "14/14 [==============================] - 6s 432ms/step - loss: 2.0772 - accuracy: 0.3818\n",
            "Epoch 23/23\n",
            "14/14 [==============================] - 7s 516ms/step - loss: 1.9831 - accuracy: 0.3932\n"
          ]
        },
        {
          "output_type": "execute_result",
          "data": {
            "text/plain": [
              "<keras.src.callbacks.History at 0x7db06ca28fa0>"
            ]
          },
          "metadata": {},
          "execution_count": 47
        }
      ]
    },
    {
      "cell_type": "code",
      "source": [
        "model.save(\"finger_detector.h5\")"
      ],
      "metadata": {
        "colab": {
          "base_uri": "https://localhost:8080/"
        },
        "id": "etUj6JuFYq9v",
        "outputId": "8553c309-c932-4d33-f0e5-1173dc2790fb"
      },
      "execution_count": 48,
      "outputs": [
        {
          "output_type": "stream",
          "name": "stderr",
          "text": [
            "/usr/local/lib/python3.10/dist-packages/keras/src/engine/training.py:3103: UserWarning: You are saving your model as an HDF5 file via `model.save()`. This file format is considered legacy. We recommend using instead the native Keras format, e.g. `model.save('my_model.keras')`.\n",
            "  saving_api.save_model(\n"
          ]
        }
      ]
    },
    {
      "cell_type": "code",
      "source": [],
      "metadata": {
        "id": "08jiIwApYq6q"
      },
      "execution_count": null,
      "outputs": []
    },
    {
      "cell_type": "markdown",
      "source": [
        "Prediction model\n"
      ],
      "metadata": {
        "id": "BYCc-rIZYncY"
      }
    },
    {
      "cell_type": "code",
      "source": [
        "!pip install opencv-python -q"
      ],
      "metadata": {
        "id": "qsbTtyUuzDdH"
      },
      "execution_count": 49,
      "outputs": []
    },
    {
      "cell_type": "code",
      "source": [
        "\n",
        "import cv2"
      ],
      "metadata": {
        "id": "c_9uxuV_zDaN"
      },
      "execution_count": 50,
      "outputs": []
    },
    {
      "cell_type": "code",
      "source": [
        "img = cv2.imread('/content/train/Uma/Fingerprint/39__M_Right_thumb_finger.BMP')\n",
        "plt.imshow(img)\n",
        "plt.show()"
      ],
      "metadata": {
        "id": "d4qqTD6o06PC",
        "colab": {
          "base_uri": "https://localhost:8080/",
          "height": 434
        },
        "outputId": "a812e9bb-8962-4850-ba8d-acee143109ba"
      },
      "execution_count": 57,
      "outputs": [
        {
          "output_type": "display_data",
          "data": {
            "text/plain": [
              "<Figure size 640x480 with 1 Axes>"
            ],
            "image/png": "[encoded data removed]"
          },
          "metadata": {}
        }
      ]
    },
    {
      "cell_type": "code",
      "source": [
        "IMAGE_SIZE=(128,128)\n",
        "resized_image = tf.image.resize(img, IMAGE_SIZE)\n",
        "scaled_image = resized_image/255\n",
        "scaled_image.shape"
      ],
      "metadata": {
        "id": "MFz41iI906Ma",
        "colab": {
          "base_uri": "https://localhost:8080/"
        },
        "outputId": "c376b347-aa88-443c-a7b6-92f3197f282c"
      },
      "execution_count": 58,
      "outputs": [
        {
          "output_type": "execute_result",
          "data": {
            "text/plain": [
              "TensorShape([128, 128, 3])"
            ]
          },
          "metadata": {},
          "execution_count": 58
        }
      ]
    },
    {
      "cell_type": "code",
      "source": [
        "np.expand_dims(scaled_image, 0).shape"
      ],
      "metadata": {
        "id": "JElpLQTN06H6",
        "colab": {
          "base_uri": "https://localhost:8080/"
        },
        "outputId": "2fe42784-b741-40e7-8a82-72a98450a26f"
      },
      "execution_count": 59,
      "outputs": [
        {
          "output_type": "execute_result",
          "data": {
            "text/plain": [
              "(1, 128, 128, 3)"
            ]
          },
          "metadata": {},
          "execution_count": 59
        }
      ]
    },
    {
      "cell_type": "code",
      "source": [
        "yhat = model.predict(np.expand_dims(scaled_image, 0))\n",
        "yhat"
      ],
      "metadata": {
        "colab": {
          "base_uri": "https://localhost:8080/"
        },
        "id": "SexiGnRVaBuB",
        "outputId": "c0fe1958-416f-4004-9f81-98968a12f132"
      },
      "execution_count": 60,
      "outputs": [
        {
          "output_type": "stream",
          "name": "stdout",
          "text": [
            "1/1 [==============================] - 0s 90ms/step\n"
          ]
        },
        {
          "output_type": "execute_result",
          "data": {
            "text/plain": [
              "array([[0.02205823, 0.02320091, 0.02145088, 0.02443778, 0.02398413,\n",
              "        0.02299997, 0.02097712, 0.01960189, 0.02355324, 0.02180706,\n",
              "        0.02319149, 0.02346927, 0.02275082, 0.02181864, 0.02237194,\n",
              "        0.0226198 , 0.02288256, 0.02399532, 0.02326332, 0.02238823,\n",
              "        0.02197076, 0.02297958, 0.02288002, 0.0241997 , 0.02183156,\n",
              "        0.02387001, 0.02250857, 0.02189455, 0.02374029, 0.02240213,\n",
              "        0.02287006, 0.02261121, 0.02280007, 0.0229934 , 0.02362335,\n",
              "        0.02248624, 0.02181737, 0.02274451, 0.0214915 , 0.0240314 ,\n",
              "        0.02408252, 0.02266232, 0.02198456, 0.02270167]], dtype=float32)"
            ]
          },
          "metadata": {},
          "execution_count": 60
        }
      ]
    },
    {
      "cell_type": "code",
      "source": [
        "import numpy as np\n",
        "\n",
        "# Sample prediction (replace with your actual prediction)\n",
        "#prediction = np.array([[0.06690496, 0.02664575, 0.06709774, ... , 0.00322813, 0.0118737 , 0.00681786, 0.07588106]])\n",
        "prediction=yhat\n",
        "# Sample class labels (replace with your actual list of names)\n",
        "class_labels = [\n",
        "  \"Ace\", \"Ari\", \"Ash\", \"Bea\", \"Ben\", \"Bly\", \"Cam\", \"Cat\", \"Dax\", \"Echo\",\n",
        "  \"Em\", \"Fox\", \"Gia\", \"Gus\", \"Jay\", \"Jem\", \"Kai\", \"Kit\", \"Liv\", \"Lux\",\n",
        "  \"Mac\", \"May\", \"Max\", \"Nat\", \"Neo\", \"Nix\", \"Nax\", \"Pax\", \"Tax\",\n",
        "  \"Pip\", \"Rae\", \"Ren\", \"Sam\", \"Scout\", \"Shay\", \"Skye\", \"Tate\", \"Ty\", \"Uma\",\n",
        "  \"Val\", \"Wren\", \"Xander\", \"Yaz\", \"Zee\"\n",
        "]  # Assuming these correspond to prediction classes\n",
        "\n",
        "# Find the index of the highest probability in the prediction\n",
        "predicted_index = np.argmax(prediction, axis=1)  # Assumes probabilities are in the first dimension\n",
        "\n",
        "# Map the index to the corresponding name using class labels\n",
        "predicted_name = class_labels[predicted_index[0]]  # Assuming you only have one prediction\n",
        "\n",
        "print(\"Predicted name:\", predicted_name)\n"
      ],
      "metadata": {
        "colab": {
          "base_uri": "https://localhost:8080/"
        },
        "id": "sDp4efXAaBrv",
        "outputId": "e6d12197-97b3-4722-8fc3-5fe9e6cc0dbf"
      },
      "execution_count": 61,
      "outputs": [
        {
          "output_type": "stream",
          "name": "stdout",
          "text": [
            "Predicted name: Bea\n"
          ]
        }
      ]
    },
    {
      "cell_type": "code",
      "source": [],
      "metadata": {
        "id": "pxPmSfx_aBpF"
      },
      "execution_count": null,
      "outputs": []
    }
  ]
}